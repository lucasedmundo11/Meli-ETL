{
 "cells": [
  {
   "cell_type": "code",
   "execution_count": 1,
   "id": "44af2244",
   "metadata": {},
   "outputs": [
    {
     "data": {
      "text/plain": [
       "True"
      ]
     },
     "execution_count": 1,
     "metadata": {},
     "output_type": "execute_result"
    }
   ],
   "source": [
    "import os\n",
    "import sys\n",
    "sys.path.append(os.path.abspath(os.path.join(os.path.dirname('__file__'), '..')))\n",
    "\n",
    "import requests\n",
    "import dotenv\n",
    "\n",
    "dotenv.load_dotenv()"
   ]
  },
  {
   "cell_type": "code",
   "execution_count": 2,
   "id": "d2f67d18",
   "metadata": {},
   "outputs": [],
   "source": [
    "def get_first_oauth_token():\n",
    "    \"\"\"\n",
    "    Obtém token OAuth do MercadoLibre usando authorization code\n",
    "    \"\"\"\n",
    "    \n",
    "    # URL do endpoint\n",
    "    url = \"https://api.mercadolibre.com/oauth/token\"\n",
    "    \n",
    "    # Headers\n",
    "    headers = {\n",
    "        'accept': 'application/json',\n",
    "        'content-type': 'application/x-www-form-urlencoded'\n",
    "    }\n",
    "    \n",
    "    # Dados do formulário\n",
    "    data = {\n",
    "        'grant_type': 'authorization_code',\n",
    "        'client_id': os.getenv('MELI_APP_ID'),  # ou substitua pela sua APP_ID\n",
    "        'client_secret': os.getenv('MELI_SECRET_KEY'),  # ou substitua pela sua SECRET_KEY\n",
    "        'code': os.getenv('MELI_CODE'),  # código de autorização\n",
    "        'redirect_uri': os.getenv('MELI_REDIRECT_URI'),  # URI de redirecionamento\n",
    "        #'code_verifier': os.getenv('MELI_CODE_VERIFIER')  # verificador PKCE\n",
    "    }\n",
    "    \n",
    "    try:\n",
    "        # Fazer a requisição POST\n",
    "        response = requests.post(url, headers=headers, data=data)\n",
    "        \n",
    "        # Verificar se a requisição foi bem-sucedida\n",
    "        response.raise_for_status()\n",
    "        \n",
    "        # Retornar a resposta JSON\n",
    "        return response.json()\n",
    "        \n",
    "    except requests.exceptions.RequestException as e:\n",
    "        print(f\"Erro na requisição: {e}\")\n",
    "        return None\n",
    "    \n",
    "\n",
    "def get_oauth_token():\n",
    "    \"\"\"\n",
    "    Obtém token OAuth do MercadoLibre usando refresh token\n",
    "    \"\"\"\n",
    "    \n",
    "    # URL do endpoint\n",
    "    url = \"https://api.mercadolibre.com/oauth/token\"\n",
    "\n",
    "    # Headers\n",
    "    headers = {\n",
    "        'accept': 'application/json',\n",
    "        'content-type': 'application/x-www-form-urlencoded'\n",
    "    }\n",
    "\n",
    "    # Dados do formulário\n",
    "    data = {\n",
    "        'grant_type': 'refresh_token',\n",
    "        'client_id': os.getenv('MELI_APP_ID'),\n",
    "        'client_secret': os.getenv('MELI_SECRET_KEY'),\n",
    "        'refresh_token': os.getenv('MELI_REFRESH_TOKEN')\n",
    "    }\n",
    "\n",
    "    try:\n",
    "        # Fazer a requisição POST\n",
    "        response = requests.post(url, headers=headers, data=data)\n",
    "\n",
    "        # Verificar se a requisição foi bem-sucedida\n",
    "        response.raise_for_status()\n",
    "\n",
    "        # Retornar a resposta JSON\n",
    "        return response.json()\n",
    "\n",
    "    except requests.exceptions.RequestException as e:\n",
    "        print(f\"Erro na requisição: {e}\")\n",
    "        return None"
   ]
  },
  {
   "cell_type": "code",
   "execution_count": 3,
   "id": "4dab4916",
   "metadata": {},
   "outputs": [],
   "source": [
    "def update_env_file(response):\n",
    "    \"\"\"\n",
    "    Atualiza o arquivo .env com o access_token e refresh_token obtidos\n",
    "    \"\"\"\n",
    "    if response and 'access_token' in response and 'refresh_token' in response:\n",
    "        # Ler o conteúdo atual do .env\n",
    "        env_path = '../.env'\n",
    "        env_vars = {}\n",
    "        \n",
    "        # Se o arquivo existe, ler as variáveis existentes\n",
    "        if os.path.exists(env_path):\n",
    "            with open(env_path, 'r') as file:\n",
    "                for line in file:\n",
    "                    line = line.strip()\n",
    "                    if line and '=' in line and not line.startswith('#'):\n",
    "                        key, value = line.split('=', 1)\n",
    "                        env_vars[key] = value\n",
    "        \n",
    "        # Atualizar com os novos tokens\n",
    "        env_vars['MELI_ACCESS_TOKEN'] = response['access_token']\n",
    "        env_vars['MELI_REFRESH_TOKEN'] = response['refresh_token']\n",
    "        \n",
    "        # Escrever de volta no arquivo\n",
    "        with open(env_path, 'w') as file:\n",
    "            for key, value in env_vars.items():\n",
    "                if key in ['MELI_ACCESS_TOKEN', 'MELI_REFRESH_TOKEN']:\n",
    "                    file.write(f'{key}=\"{value}\"\\n')\n",
    "                else:\n",
    "                    file.write(f'{key}={value}\\n')\n",
    "\n",
    "        print(\"Tokens atualizados no arquivo .env com sucesso!\")\n",
    "        print(f\"Access Token: {response['access_token'][:20]}...\")\n",
    "        print(f\"Refresh Token: {response['refresh_token'][:20]}...\")\n",
    "    else:\n",
    "        print(\"Erro: Response não contém os tokens necessários\")"
   ]
  },
  {
   "cell_type": "code",
   "execution_count": 4,
   "id": "edad28c6",
   "metadata": {},
   "outputs": [
    {
     "name": "stdout",
     "output_type": "stream",
     "text": [
      "Token OAuth obtido com sucesso:\n",
      "Tokens atualizados no arquivo .env com sucesso!\n",
      "Access Token: APP_USR-876268789520...\n",
      "Refresh Token: TG-68ffdd5d6f00cf000...\n"
     ]
    },
    {
     "data": {
      "text/plain": [
       "True"
      ]
     },
     "execution_count": 4,
     "metadata": {},
     "output_type": "execute_result"
    }
   ],
   "source": [
    "response = get_oauth_token()\n",
    "if response:\n",
    "    print(\"Token OAuth obtido com sucesso:\")\n",
    "    #print(response)\n",
    "    update_env_file(response)\n",
    "\n",
    "dotenv.load_dotenv()"
   ]
  },
  {
   "cell_type": "code",
   "execution_count": null,
   "id": "412907eb",
   "metadata": {},
   "outputs": [
    {
     "name": "stdout",
     "output_type": "stream",
     "text": [
      "{\"id\":817670010,\"nickname\":\"LUCASEDMUNDOMSILVA\",\"registration_date\":\"2022-06-14T08:08:45.000-04:00\",\"first_name\":\"Lucas Edmundo\",\"last_name\":\"Mello Silva\",\"gender\":\"\",\"country_id\":\"BR\",\"email\":\"lucasedmundo11@gmail.com\",\"identification\":{\"number\":\"51331931819\",\"type\":\"CPF\"},\"address\":{\"address\":null,\"city\":null,\"state\":null,\"zip_code\":null},\"phone\":{\"area_code\":null,\"extension\":\"\",\"number\":null,\"verified\":false},\"alternative_phone\":{\"area_code\":\"\",\"extension\":\"\",\"number\":\"\"},\"user_type\":\"normal\",\"tags\":[\"credits_profile\",\"normal\",\"messages_as_seller\"],\"logo\":null,\"points\":2,\"site_id\":\"MLB\",\"permalink\":\"http://perfil.mercadolivre.com.br/LUCASEDMUNDOMSILVA\",\"seller_experience\":\"NEWBIE\",\"bill_data\":{\"accept_credit_note\":null},\"seller_reputation\":{\"level_id\":null,\"power_seller_status\":null,\"transactions\":{\"canceled\":0,\"completed\":0,\"period\":\"historic\",\"ratings\":{\"negative\":0,\"neutral\":0,\"positive\":0},\"total\":0},\"metrics\":{\"sales\":{\"period\":\"365 days\",\"completed\":0},\"claims\":{\"period\":\"365 days\",\"rate\":0,\"value\":0},\"delayed_handling_time\":{\"period\":\"365 days\",\"rate\":0,\"value\":0},\"cancellations\":{\"period\":\"365 days\",\"rate\":0,\"value\":0}}},\"buyer_reputation\":{\"canceled_transactions\":0,\"tags\":[],\"transactions\":{\"canceled\":{\"paid\":null,\"total\":null},\"completed\":null,\"not_yet_rated\":{\"paid\":null,\"total\":null,\"units\":null},\"period\":\"historic\",\"total\":null,\"unrated\":{\"paid\":null,\"total\":null}}},\"status\":{\"billing\":{\"allow\":false,\"codes\":[\"address_pending\"]},\"buy\":{\"allow\":true,\"codes\":[],\"immediate_payment\":{\"reasons\":[],\"required\":false}},\"confirmed_email\":true,\"shopping_cart\":{\"buy\":\"allowed\",\"sell\":\"allowed\"},\"immediate_payment\":false,\"list\":{\"allow\":false,\"codes\":[\"address_pending\"],\"immediate_payment\":{\"reasons\":[],\"required\":false}},\"mercadoenvios\":\"not_accepted\",\"mercadopago_account_type\":\"personal\",\"mercadopago_tc_accepted\":true,\"required_action\":null,\"sell\":{\"allow\":true,\"codes\":[],\"immediate_payment\":{\"reasons\":[],\"required\":false}},\"site_status\":\"active\",\"user_type\":null},\"secure_email\":\"lucase.mxcjhf@mail.mercadolivre.com\",\"company\":{\"brand_name\":null,\"city_tax_id\":\"\",\"corporate_name\":\" \",\"identification\":\"\",\"state_tax_id\":\"\",\"cust_type_id\":\"CO\",\"soft_descriptor\":null},\"credit\":{\"consumed\":0,\"credit_level_id\":\"MLB5\",\"rank\":\"newbie\"},\"context\":{\"device\":\"desktop\",\"flow\":\"cart\",\"ip_address\":\"189.78.86.105\",\"source\":\"mercadolibre\"},\"registration_identifiers\":[{\"user_identifier\":\"5511966879521\",\"registration_type\":\"phone_identifier\",\"creation_date\":\"2024-02-20T00:12:02-04:00\",\"last_updated\":\"2024-02-20T00:12:02-04:00\",\"metadata\":{\"country_code\":\"55\",\"number\":\"11966879521\"}}]}"
     ]
    }
   ],
   "source": [
    "! curl -H 'Authorization: Bearer ' \\\n",
    "https://api.mercadolibre.com/users/me"
   ]
  },
  {
   "cell_type": "code",
   "execution_count": null,
   "id": "5e3062ec",
   "metadata": {},
   "outputs": [],
   "source": [
    "url = f\"https://api.mercadolibre.com/sites/MLA/search\"\n",
    "params = {\n",
    "    'nickname': \"iPhone 15\",\n",
    "    'limit': 1,\n",
    "    'offset': 50\n",
    "}\n",
    "headers = {\n",
    "    'Authorization': f\"Bearer {os.getenv('MELI_ACCESS_TOKEN')}\"\n",
    "}\n",
    "\n",
    "session = requests.Session()\n",
    "response = session.get(url, data=params, headers=headers, timeout=30)\n",
    "#response.raise_for_status()\n",
    "\n",
    "#data = response.json()\n",
    "results = data.get('results', [])\n",
    "data"
   ]
  },
  {
   "cell_type": "code",
   "execution_count": null,
   "id": "460bfb38",
   "metadata": {},
   "outputs": [],
   "source": [
    "! curl -X POST -H 'Authorization: Bearer ' -H \"Content-type: application/json\" -d '{\"site_id\":\"MLA\"}' 'https://api.mercadolibre.com/users/test_user'"
   ]
  },
  {
   "cell_type": "code",
   "execution_count": null,
   "id": "623efd6d",
   "metadata": {},
   "outputs": [
    {
     "name": "stdout",
     "output_type": "stream",
     "text": [
      "{\"message\":\"Access to the requested resource is forbidden\",\"error\":\"access_denied\",\"status\":403,\"cause\":null}"
     ]
    }
   ],
   "source": [
    "!curl -k -X GET -H 'Authorization: Bearer ' https://api.mercadolibre.com/items/MLB5286384022"
   ]
  },
  {
   "cell_type": "code",
   "execution_count": null,
   "id": "b75e4eb3",
   "metadata": {},
   "outputs": [
    {
     "name": "stdout",
     "output_type": "stream",
     "text": [
      "curl: (6) Could not resolve host: GET\n",
      "curl: (3) URL rejected: Malformed input to a URL function\n",
      "<!DOCTYPE HTML PUBLIC \"-//W3C//DTD HTML 4.01 Transitional//EN\" \"http://www.w3.org/TR/html4/loose.dtd\">\n",
      "<HTML><HEAD><META HTTP-EQUIV=\"Content-Type\" CONTENT=\"text/html; charset=iso-8859-1\">\n",
      "<TITLE>ERROR: The request could not be satisfied</TITLE>\n",
      "</HEAD><BODY>\n",
      "<H1>403 ERROR</H1>\n",
      "<H2>The request could not be satisfied.</H2>\n",
      "<HR noshade size=\"1px\">\n",
      "This distribution is not configured to allow the HTTP request method that was used for this request. The distribution supports only cachable requests.\n",
      "We can't connect to the server for this app or website at this time. There might be too much traffic or a configuration error. Try again later, or contact the app or website owner.\n",
      "<BR clear=\"all\">\n",
      "If you provide content to customers through CloudFront, you can find steps to troubleshoot and help prevent this error by reviewing the CloudFront documentation.\n",
      "<BR clear=\"all\">\n",
      "<HR noshade size=\"1px\">\n",
      "<PRE>\n",
      "Generated by cloudfront (CloudFront)\n",
      "Request ID: cG7xwVeqT2WHRdC27eo135CxO4UZlK4MhPeRtpn45QRZbBddUohVHA==\n",
      "</PRE>\n",
      "<ADDRESS>\n",
      "</ADDRESS>\n",
      "</BODY></HTML>"
     ]
    }
   ],
   "source": [
    "!curl GET -X -H 'Authorization: Bearer '  https://api.mercadolibre.com/users/{817670010}"
   ]
  },
  {
   "cell_type": "code",
   "execution_count": null,
   "id": "b04c3fa9",
   "metadata": {},
   "outputs": [],
   "source": []
  }
 ],
 "metadata": {
  "kernelspec": {
   "display_name": "env",
   "language": "python",
   "name": "python3"
  },
  "language_info": {
   "codemirror_mode": {
    "name": "ipython",
    "version": 3
   },
   "file_extension": ".py",
   "mimetype": "text/x-python",
   "name": "python",
   "nbconvert_exporter": "python",
   "pygments_lexer": "ipython3",
   "version": "3.11.14"
  }
 },
 "nbformat": 4,
 "nbformat_minor": 5
}
